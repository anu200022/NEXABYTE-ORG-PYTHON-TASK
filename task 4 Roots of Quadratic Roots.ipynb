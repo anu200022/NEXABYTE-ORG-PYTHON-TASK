{
 "cells": [
  {
   "cell_type": "code",
   "execution_count": 2,
   "id": "8f7dedae",
   "metadata": {},
   "outputs": [],
   "source": [
    "import cmath\n",
    "\n",
    "def find_roots(a, b, c):\n",
    "    # calculate the discriminant\n",
    "    discriminant = (b**2) - (4*a*c)\n",
    "\n",
    "    # find two solutions\n",
    "    root1 = (-b - cmath.sqrt(discriminant)) / (2*a)\n",
    "    root2 = (-b + cmath.sqrt(discriminant)) / (2*a)\n",
    "\n",
    "    return root1, root2\n",
    "\n",
    "\n"
   ]
  },
  {
   "cell_type": "code",
   "execution_count": 3,
   "id": "ee1d1c0e",
   "metadata": {},
   "outputs": [
    {
     "name": "stdout",
     "output_type": "stream",
     "text": [
      "Root 1: (2+0j)\n",
      "Root 2: (3+0j)\n"
     ]
    }
   ],
   "source": [
    "# example usage\n",
    "a = 1\n",
    "b = -5\n",
    "c = 6\n",
    "\n",
    "roots = find_roots(a, b, c)\n",
    "print(\"Root 1:\", roots[0])\n",
    "print(\"Root 2:\", roots[1])"
   ]
  },
  {
   "cell_type": "code",
   "execution_count": 5,
   "id": "fa247744",
   "metadata": {},
   "outputs": [
    {
     "name": "stdout",
     "output_type": "stream",
     "text": [
      "Root 1: (1-1.5811388300841895j)\n",
      "Root 2: (1+1.5811388300841895j)\n"
     ]
    }
   ],
   "source": [
    "# example usage\n",
    "a = 20\n",
    "b = -40\n",
    "c = 70\n",
    "\n",
    "roots = find_roots(a, b, c)\n",
    "print(\"Root 1:\", roots[0])\n",
    "print(\"Root 2:\", roots[1])"
   ]
  },
  {
   "cell_type": "code",
   "execution_count": 6,
   "id": "f4085c0a",
   "metadata": {},
   "outputs": [
    {
     "name": "stdout",
     "output_type": "stream",
     "text": [
      "Root 1: (1-1.9364916731037085j)\n",
      "Root 2: (1+1.9364916731037085j)\n"
     ]
    }
   ],
   "source": [
    "# example usage\n",
    "a = 120\n",
    "b = -240\n",
    "c = 570\n",
    "\n",
    "roots = find_roots(a, b, c)\n",
    "print(\"Root 1:\", roots[0])\n",
    "print(\"Root 2:\", roots[1])"
   ]
  },
  {
   "cell_type": "code",
   "execution_count": null,
   "id": "c90aeffa",
   "metadata": {},
   "outputs": [],
   "source": []
  }
 ],
 "metadata": {
  "kernelspec": {
   "display_name": "Python 3",
   "language": "python",
   "name": "python3"
  },
  "language_info": {
   "codemirror_mode": {
    "name": "ipython",
    "version": 3
   },
   "file_extension": ".py",
   "mimetype": "text/x-python",
   "name": "python",
   "nbconvert_exporter": "python",
   "pygments_lexer": "ipython3",
   "version": "3.8.8"
  }
 },
 "nbformat": 4,
 "nbformat_minor": 5
}
