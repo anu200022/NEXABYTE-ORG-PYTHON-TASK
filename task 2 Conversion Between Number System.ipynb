{
 "cells": [
  {
   "cell_type": "code",
   "execution_count": 1,
   "id": "009087a4",
   "metadata": {},
   "outputs": [],
   "source": [
    "def decimal_to_binary(decimal):\n",
    "    return bin(decimal)[2:]\n",
    "\n",
    "def decimal_to_octal(decimal):\n",
    "    return oct(decimal)[2:]\n",
    "\n",
    "def decimal_to_hexadecimal(decimal):\n",
    "    return hex(decimal)[2:]\n",
    "\n",
    "def binary_to_decimal(binary):\n",
    "    return int(binary, 2)\n",
    "\n",
    "def octal_to_decimal(octal):\n",
    "    return int(octal, 8)\n",
    "\n",
    "def hexadecimal_to_decimal(hexadecimal):\n",
    "    return int(hexadecimal, 16)\n"
   ]
  },
  {
   "cell_type": "code",
   "execution_count": 2,
   "id": "fd35c229",
   "metadata": {},
   "outputs": [
    {
     "name": "stdout",
     "output_type": "stream",
     "text": [
      "Binary representation of 10 is: 0b1010\n",
      "Octal representation of 10 is: 0o12\n",
      "Hexadecimal representation of 10 is: 0xa\n",
      "Decimal representation of 1010 is: 10\n",
      "Octal representation of 1010 is: 0o12\n",
      "Hexadecimal representation of 1010 is: 0xa\n",
      "Decimal representation of 12 is: 10\n",
      "Binary representation of 12 is: 0b1010\n",
      "Hexadecimal representation of 12 is: 0xa\n",
      "Decimal representation of A is: 10\n",
      "Binary representation of A is: 0b1010\n",
      "Octal representation of A is: 0o12\n"
     ]
    }
   ],
   "source": [
    "# Conversion between decimal and binary\n",
    "decimal_number = 10\n",
    "binary_number = bin(decimal_number)\n",
    "print(f\"Binary representation of {decimal_number} is: {binary_number}\")\n",
    "\n",
    "# Conversion between decimal and octal\n",
    "decimal_number = 10\n",
    "octal_number = oct(decimal_number)\n",
    "print(f\"Octal representation of {decimal_number} is: {octal_number}\")\n",
    "\n",
    "# Conversion between decimal and hexadecimal\n",
    "decimal_number = 10\n",
    "hexadecimal_number = hex(decimal_number)\n",
    "print(f\"Hexadecimal representation of {decimal_number} is: {hexadecimal_number}\")\n",
    "\n",
    "# Conversion between binary and decimal\n",
    "binary_number = '1010'\n",
    "decimal_number = int(binary_number, 2)\n",
    "print(f\"Decimal representation of {binary_number} is: {decimal_number}\")\n",
    "\n",
    "# Conversion between binary and octal\n",
    "binary_number = '1010'\n",
    "octal_number = oct(int(binary_number, 2))\n",
    "print(f\"Octal representation of {binary_number} is: {octal_number}\")\n",
    "\n",
    "# Conversion between binary and hexadecimal\n",
    "binary_number = '1010'\n",
    "hexadecimal_number = hex(int(binary_number, 2))\n",
    "print(f\"Hexadecimal representation of {binary_number} is: {hexadecimal_number}\")\n",
    "\n",
    "# Conversion between octal and decimal\n",
    "octal_number = '12'\n",
    "decimal_number = int(octal_number, 8)\n",
    "print(f\"Decimal representation of {octal_number} is: {decimal_number}\")\n",
    "\n",
    "# Conversion between octal and binary\n",
    "octal_number = '12'\n",
    "binary_number = bin(int(octal_number, 8))\n",
    "print(f\"Binary representation of {octal_number} is: {binary_number}\")\n",
    "\n",
    "# Conversion between octal and hexadecimal\n",
    "octal_number = '12'\n",
    "hexadecimal_number = hex(int(octal_number, 8))\n",
    "print(f\"Hexadecimal representation of {octal_number} is: {hexadecimal_number}\")\n",
    "\n",
    "# Conversion between hexadecimal and decimal\n",
    "hexadecimal_number = 'A'\n",
    "decimal_number = int(hexadecimal_number, 16)\n",
    "print(f\"Decimal representation of {hexadecimal_number} is: {decimal_number}\")\n",
    "\n",
    "# Conversion between hexadecimal and binary\n",
    "hexadecimal_number = 'A'\n",
    "binary_number = bin(int(hexadecimal_number, 16))\n",
    "print(f\"Binary representation of {hexadecimal_number} is: {binary_number}\")\n",
    "\n",
    "# Conversion between hexadecimal and octal\n",
    "hexadecimal_number = 'A'\n",
    "octal_number = oct(int(hexadecimal_number, 16))\n",
    "print(f\"Octal representation of {hexadecimal_number} is: {octal_number}\")\n"
   ]
  },
  {
   "cell_type": "code",
   "execution_count": null,
   "id": "aa8753f5",
   "metadata": {},
   "outputs": [],
   "source": []
  }
 ],
 "metadata": {
  "kernelspec": {
   "display_name": "Python 3",
   "language": "python",
   "name": "python3"
  },
  "language_info": {
   "codemirror_mode": {
    "name": "ipython",
    "version": 3
   },
   "file_extension": ".py",
   "mimetype": "text/x-python",
   "name": "python",
   "nbconvert_exporter": "python",
   "pygments_lexer": "ipython3",
   "version": "3.8.8"
  }
 },
 "nbformat": 4,
 "nbformat_minor": 5
}
